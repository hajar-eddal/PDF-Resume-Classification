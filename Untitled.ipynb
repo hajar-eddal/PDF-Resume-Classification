{
 "cells": [
  {
   "cell_type": "code",
   "execution_count": null,
   "id": "d55073a0-fe60-4d43-8b51-e93cad7c5b70",
   "metadata": {
    "tags": []
   },
   "outputs": [],
   "source": []
  },
  {
   "cell_type": "markdown",
   "id": "26482b20-e869-4ce1-bf70-fb197f548d68",
   "metadata": {
    "tags": []
   },
   "source": [
    "<H1>PDF text extraction</H1>"
   ]
  },
  {
   "cell_type": "markdown",
   "id": "36372c17-32a6-4a44-a4dc-c06266492ea7",
   "metadata": {},
   "source": [
    "<h3>Extracting Text from PDFs</h3>"
   ]
  },
  {
   "cell_type": "code",
   "execution_count": 1,
   "id": "90fa0cf3-7977-41b9-b13f-195f4537a4ec",
   "metadata": {},
   "outputs": [],
   "source": [
    "from pdfminer.high_level import extract_text\n",
    "import os\n",
    "\n",
    "def extract_text_from_pdf(pdf_path):\n",
    "    try:\n",
    "        text = extract_text(pdf_path)\n",
    "        return text\n",
    "    except Exception as e:\n",
    "        print(f\"Error extracting text from {pdf_path}: {e}\")\n",
    "        return None"
   ]
  },
  {
   "cell_type": "markdown",
   "id": "a0092b28-639a-48f5-9245-f9222eed8b28",
   "metadata": {},
   "source": [
    "<h3>Extracting Text from PDF Resumes Folders</h3>"
   ]
  },
  {
   "cell_type": "code",
   "execution_count": 2,
   "id": "0dc00ecf-4e7a-46e2-a935-cb47d6670292",
   "metadata": {},
   "outputs": [],
   "source": [
    "# Folder containing PDF resumes\n",
    "cv_folder_path = 'cvTrain/'\n",
    "\n",
    "# List to store extracted text\n",
    "text_data = []"
   ]
  },
  {
   "cell_type": "code",
   "execution_count": 3,
   "id": "b7b042a4-fd50-4d7c-975c-2cf622f45ff9",
   "metadata": {
    "tags": []
   },
   "outputs": [],
   "source": [
    "# Iterate through each file in the folder\n",
    "for file_name in os.listdir(cv_folder_path):\n",
    "    file_path = os.path.join(cv_folder_path, file_name)\n",
    "    \n",
    "    # Extract text from the PDF\n",
    "    text = extract_text_from_pdf(file_path)\n",
    "    \n",
    "    if text is not None:\n",
    "        text_data.append({'FileName': file_name, 'Text': text})"
   ]
  },
  {
   "cell_type": "code",
   "execution_count": 4,
   "id": "fcbbccde-9158-4831-94f2-47902768b090",
   "metadata": {
    "tags": []
   },
   "outputs": [
    {
     "name": "stdout",
     "output_type": "stream",
     "text": [
      "Sample Extracted Text:\n",
      "FIRST LAST\n",
      "Bay Area, California • +1-234-456-789 • professionalemail@resumeworded.com • linkedin.com/in/username\n",
      "\n",
      "System Administrator with ﬁve years of experience conducting system repairs and troubleshooting.\n",
      "Expertise in deploying and maintaining operating systems in addition to providing technical\n",
      "solutions through high-quality service.\n",
      "\n",
      "PROFESSIONAL EXPERIENCE\n",
      "\n",
      "Resume Worded, New York, NY\n",
      "System Administrator\n",
      "\n",
      "2020 – Present\n",
      "\n",
      "● Planned all system design, saving $200,000 a year in lost time \n"
     ]
    }
   ],
   "source": [
    "# Display the first 500 characters of the first extracted resume as a sample\n",
    "print(\"Sample Extracted Text:\")\n",
    "print(text_data[1]['Text'][:500])"
   ]
  },
  {
   "cell_type": "markdown",
   "id": "a64bc4b0-1ea0-4300-9770-93dcce46ddfa",
   "metadata": {},
   "source": [
    "<H1>Create a DataFrame from the extracted text data</H1>"
   ]
  },
  {
   "cell_type": "code",
   "execution_count": 5,
   "id": "d09856ca-8e59-41d3-98c4-941930835392",
   "metadata": {
    "tags": []
   },
   "outputs": [
    {
     "name": "stdout",
     "output_type": "stream",
     "text": [
      "Sample DataFrame:\n",
      "                                       FileName  \\\n",
      "0  1. System Administrator - Resume - Copie.pdf   \n",
      "1          1. System Administrator - Resume.pdf   \n",
      "2                                         1.pdf   \n",
      "3                                        10.pdf   \n",
      "4                                        11.pdf   \n",
      "\n",
      "                                                Text  \n",
      "0  FIRST LAST\\nBay Area, California • +1-234-456-...  \n",
      "1  FIRST LAST\\nBay Area, California • +1-234-456-...  \n",
      "2  Align-Justify Experience \\n05/22 - 01/23 Data ...  \n",
      "3  TIMTIM RAHMAN \\n\\nM a n a g e m e n t G r a u ...  \n",
      "4  08/2022 - Present,   \\nAchievements-  \\n\\nBeng...  \n"
     ]
    }
   ],
   "source": [
    "import pandas as pd\n",
    "\n",
    "# Create a DataFrame from the extracted text data\n",
    "df = pd.DataFrame(text_data)\n",
    "\n",
    "# Display the first few rows of the DataFrame\n",
    "print(\"Sample DataFrame:\")\n",
    "print(df.head())\n"
   ]
  },
  {
   "cell_type": "markdown",
   "id": "2b04f176-782d-49d0-8fef-624027a518f1",
   "metadata": {},
   "source": [
    "<H3>Save the DataFrame to a CSV file for further use</H3>"
   ]
  },
  {
   "cell_type": "code",
   "execution_count": 6,
   "id": "12366423-d7ed-476c-a9df-c1b1333a5ac4",
   "metadata": {
    "tags": []
   },
   "outputs": [],
   "source": [
    "# Save the DataFrame to a CSV file for further use\n",
    "df.to_csv('extracted_text_data.csv', index=False)"
   ]
  },
  {
   "cell_type": "markdown",
   "id": "946eb1d9-bd3a-46fc-a1e4-f769a09c9832",
   "metadata": {
    "tags": []
   },
   "source": [
    "This code creates a DataFrame (df) from the text_data list, where each row represents a resume with columns for the file name and the extracted text. The sample DataFrame is displayed, and the entire DataFrame is saved to a CSV file named 'extracted_text_data.csv'. You can adjust the file name and format based on your preferences."
   ]
  },
  {
   "cell_type": "markdown",
   "id": "f42f2084-8252-4029-bc59-f539cd3eb2f2",
   "metadata": {},
   "source": [
    "<H1>Text Processing</H1>\n",
    "In this section, we configure the Natural Language Toolkit (nltk) for text processing tasks. We download essential resources and libraries such as stopwords and punkt for later use in text preprocessing."
   ]
  },
  {
   "cell_type": "code",
   "execution_count": 7,
   "id": "35e3c2a5-5337-499f-8b56-b0d873a2926b",
   "metadata": {
    "tags": []
   },
   "outputs": [
    {
     "name": "stderr",
     "output_type": "stream",
     "text": [
      "[nltk_data] Downloading package stopwords to\n",
      "[nltk_data]     C:\\Users\\HP\\AppData\\Roaming\\nltk_data...\n",
      "[nltk_data]   Package stopwords is already up-to-date!\n",
      "[nltk_data] Downloading package punkt to\n",
      "[nltk_data]     C:\\Users\\HP\\AppData\\Roaming\\nltk_data...\n",
      "[nltk_data]   Package punkt is already up-to-date!\n"
     ]
    },
    {
     "data": {
      "text/plain": [
       "True"
      ]
     },
     "execution_count": 7,
     "metadata": {},
     "output_type": "execute_result"
    }
   ],
   "source": [
    "# Setting up NLTK for text processing\n",
    "\n",
    "import nltk\n",
    "from nltk.corpus import stopwords\n",
    "from nltk.tokenize import word_tokenize\n",
    "from nltk.stem import PorterStemmer\n",
    "import re\n",
    "\n",
    "\n",
    "nltk.download('stopwords')\n",
    "nltk.download('punkt')"
   ]
  },
  {
   "cell_type": "markdown",
   "id": "00a8849a-b7f7-444a-b534-cf4252a646da",
   "metadata": {},
   "source": [
    "<h3>Text Preprocessing Function</h3>\n",
    "We define the preprocess_text function to clean and transform the raw text data. This function incorporates various techniques like removing URLs, emails, stopwords, and stemming. Additionally, we calculate word count and create new columns in the DataFrame to store processed text, words list, and word count."
   ]
  },
  {
   "cell_type": "code",
   "execution_count": 8,
   "id": "039ccc9c-8e7a-4618-8bbc-dcc9f542aede",
   "metadata": {
    "tags": []
   },
   "outputs": [],
   "source": [
    "def preprocess_text(text):\n",
    "    # Remove URLs\n",
    "    text = re.sub(r'http[s]?://(?:[a-zA-Z]|[0-9]|[$-_@.&+]|[!*\\\\(\\\\),]|(?:%[0-9a-fA-F][0-9a-fA-F]))+', '', text)\n",
    "\n",
    "    # Remove emails\n",
    "    text = re.sub(r'\\S+@\\S+', '', text)\n",
    "\n",
    "    # Tokenization\n",
    "    words = word_tokenize(text)\n",
    "\n",
    "    # Remove stop words\n",
    "    stop_words = set(stopwords.words('english'))\n",
    "    filtered_words = [word for word in words if word.lower() not in stop_words]\n",
    "\n",
    "    # Remove numbers and alphanumeric words\n",
    "    filtered_words = [word for word in filtered_words if not any(char.isdigit() for char in word)]\n",
    "\n",
    "    # Stemming\n",
    "    porter = PorterStemmer()\n",
    "    stemmed_words = [porter.stem(word.lower()) for word in filtered_words]\n",
    "    \n",
    "    # Create a new column containing a list of words\n",
    "    words_list = ','.join(stemmed_words)\n",
    "    \n",
    "    # Calculate word count\n",
    "    word_count = len(stemmed_words)\n",
    "\n",
    "    return ' '.join(stemmed_words), words_list, word_count\n"
   ]
  },
  {
   "cell_type": "markdown",
   "id": "25f9c64e-1369-4bf6-80e6-f16fbea0019d",
   "metadata": {
    "tags": []
   },
   "source": [
    "<h3>Applying Text Preprocessing to DataFrame</h3>\n",
    "The preprocessing function is applied to the 'Text' column in the DataFrame (df). This step results in additional columns for processed text, words list, and word count. The processed DataFrame is displayed, and the entire dataset is saved to a CSV file for further use."
   ]
  },
  {
   "cell_type": "code",
   "execution_count": 9,
   "id": "367247b1-ef05-4371-88aa-ac82bae04212",
   "metadata": {
    "tags": []
   },
   "outputs": [
    {
     "name": "stdout",
     "output_type": "stream",
     "text": [
      "Sample DataFrame with Processed Text, Words List, and Word Count:\n",
      "                                       FileName  \\\n",
      "0  1. System Administrator - Resume - Copie.pdf   \n",
      "1          1. System Administrator - Resume.pdf   \n",
      "2                                         1.pdf   \n",
      "3                                        10.pdf   \n",
      "4                                        11.pdf   \n",
      "\n",
      "                                       ProcessedText  \\\n",
      "0  first last bay area , california • • • linkedi...   \n",
      "1  first last bay area , california • • • linkedi...   \n",
      "2  align-justifi experi - data scientist tanalink...   \n",
      "3  timtim rahman n g e e n g r u e | b ( c ) cont...   \n",
      "4  - present , achievements- bengaluru achiev in-...   \n",
      "\n",
      "                                           WordsList  WordCount  \n",
      "0  first,last,bay,area,,,california,•,•,•,linkedi...        359  \n",
      "1  first,last,bay,area,,,california,•,•,•,linkedi...        359  \n",
      "2  align-justifi,experi,-,data,scientist,tanalink...        304  \n",
      "3  timtim,rahman,n,g,e,e,n,g,r,u,e,|,b,(,c,),cont...        517  \n",
      "4  -,present,,,achievements-,bengaluru,achiev,in-...        498  \n"
     ]
    }
   ],
   "source": [
    "\n",
    "# Apply text preprocessing to the 'Text' column in the DataFrame\n",
    "df['ProcessedText'], df['WordsList'], df['WordCount'] = zip(*df['Text'].apply(preprocess_text))\n",
    "\n",
    "# Display the first few rows of the DataFrame with processed text, words list, and word count\n",
    "print(\"Sample DataFrame with Processed Text, Words List, and Word Count:\")\n",
    "print(df[['FileName', 'ProcessedText', 'WordsList', 'WordCount']].head())\n",
    "\n",
    "# Save the DataFrame with processed text, words list, and word count to a CSV file for further use\n",
    "df.to_csv('processed_text_data.csv', index=False)\n",
    "\n"
   ]
  },
  {
   "cell_type": "code",
   "execution_count": 10,
   "id": "4b00e9c1-368d-4374-a7c7-769b91e60018",
   "metadata": {
    "tags": []
   },
   "outputs": [],
   "source": [
    "# Save the DataFrame with processed text to a CSV file for further use\n",
    "df.to_csv('processed_text_data.csv', index=False)"
   ]
  },
  {
   "cell_type": "markdown",
   "id": "b0ef82b7-98b4-4124-a9ad-918ff52b6e2e",
   "metadata": {},
   "source": [
    "<H1>K-Means Clustering</H1>"
   ]
  },
  {
   "cell_type": "markdown",
   "id": "4a662afd-d1b9-47e6-9f71-4427d508f012",
   "metadata": {},
   "source": [
    "<h3>K-Means Clustering Setup</h3>\n",
    "In this section, we employ the KMeans clustering algorithm from the scikit-learn library. We also use the TfidfVectorizer to convert the processed text data into a TF-IDF matrix. The Elbow method is then employed to determine the optimal number of clusters (k). We plot the Elbow curve to visualize the distortion for different values of k."
   ]
  },
  {
   "cell_type": "code",
   "execution_count": 15,
   "id": "e5492b1d-b7ff-46cc-a04c-5c4cd4ee4d09",
   "metadata": {
    "tags": []
   },
   "outputs": [],
   "source": [
    "from sklearn.cluster import KMeans\n",
    "from sklearn.feature_extraction.text import TfidfVectorizer\n",
    "import matplotlib.pyplot as plt"
   ]
  },
  {
   "cell_type": "markdown",
   "id": "6fce39c2-2ce4-4874-8f8f-e64de60225fa",
   "metadata": {},
   "source": [
    "<h3>Determining Optimal Number of Clusters</h3>"
   ]
  },
  {
   "cell_type": "code",
   "execution_count": 19,
   "id": "7d25f0ff-6526-49a1-9f57-9e29d76b7ced",
   "metadata": {
    "tags": []
   },
   "outputs": [],
   "source": [
    "from sklearn.cluster import KMeans\n",
    "from sklearn.feature_extraction.text import TfidfVectorizer\n",
    "import matplotlib.pyplot as plt\n",
    "\n",
    "\n",
    "# Assuming df['ProcessedText'] contains preprocessed text data\n",
    "corpus = df['ProcessedText'].tolist()\n",
    "\n",
    "# Creating TF-IDF matrix\n",
    "tfidf_vectorizer = TfidfVectorizer()\n",
    "tfidf_matrix = tfidf_vectorizer.fit_transform(corpus)\n",
    "\n",
    "# Creating TF-IDF matrix\n",
    "tfidf_vectorizer = TfidfVectorizer()\n",
    "tfidf_matrix = tfidf_vectorizer.fit_transform(df['ProcessedText'].tolist())\n",
    "\n",
    "\n",
    "# Determine the optimal number of clusters using the Elbow method\n",
    "distortions = []\n",
    "max_clusters = 15  # You can adjust the range based on your preference\n",
    "\n",
    "for i in range(1, max_clusters + 1):\n",
    "    kmeans = KMeans(n_clusters=i, random_state=42)\n",
    "    kmeans.fit(tfidf_matrix)\n",
    "    distortions.append(kmeans.inertia_)\n",
    "    "
   ]
  },
  {
   "cell_type": "code",
   "execution_count": 20,
   "id": "f72c1a55-20be-4b44-ae1f-679c6d9beb9b",
   "metadata": {},
   "outputs": [
    {
     "data": {
      "image/png": "[encoded data removed]",
      "text/plain": [
       "<Figure size 640x480 with 1 Axes>"
      ]
     },
     "metadata": {},
     "output_type": "display_data"
    }
   ],
   "source": [
    "# Plot the Elbow curve\n",
    "plt.plot(range(1, max_clusters + 1), distortions, marker='o')\n",
    "plt.title('Elbow Method for Optimal k')\n",
    "plt.xlabel('Number of Clusters')\n",
    "plt.ylabel('Distortion')\n",
    "plt.show()"
   ]
  },
  {
   "cell_type": "markdown",
   "id": "54ea81b3-b999-47aa-81f0-c042c049fdc1",
   "metadata": {},
   "source": [
    "<H3>Choosing Optimal K and Applying K-Means</H3>\n",
    "Based on the Elbow method, we choose an optimal value for k and apply the K-means clustering algorithm to assign clusters to the resumes. The assigned clusters are added as a new column in the DataFrame."
   ]
  },
  {
   "cell_type": "code",
   "execution_count": 21,
   "id": "2e2295ad-7c81-4fe7-bb4e-9b28ee0d921a",
   "metadata": {
    "tags": []
   },
   "outputs": [
    {
     "name": "stdout",
     "output_type": "stream",
     "text": [
      "Sample DataFrame with Assigned Clusters:\n",
      "                                       FileName  Cluster\n",
      "0  1. System Administrator - Resume - Copie.pdf        2\n",
      "1          1. System Administrator - Resume.pdf        2\n",
      "2                                         1.pdf        0\n",
      "3                                        10.pdf        0\n",
      "4                                        11.pdf        0\n"
     ]
    }
   ],
   "source": [
    "# Choose the optimal k based on the Elbow method\n",
    "optimal_k = 3  # Adjust this based on your Elbow curve\n",
    "\n",
    "# Apply K-means clustering with the optimal k\n",
    "kmeans_optimal = KMeans(n_clusters=optimal_k, random_state=42)\n",
    "df['Cluster'] = kmeans_optimal.fit_predict(tfidf_matrix)\n",
    "\n",
    "# Display the first few rows of the DataFrame with the assigned cluster\n",
    "print(\"Sample DataFrame with Assigned Clusters:\")\n",
    "print(df[['FileName', 'Cluster']].head())\n",
    "\n",
    "# Save the DataFrame with assigned clusters to a CSV file for further use\n",
    "df.to_csv('clustered_data.csv', index=False)\n"
   ]
  },
  {
   "cell_type": "markdown",
   "id": "a89e2f68-9f01-4d25-8923-629cf96b8f8b",
   "metadata": {},
   "source": [
    "<h1>Analyzing Cluster Characteristics</h1>"
   ]
  },
  {
   "cell_type": "markdown",
   "id": "2fadfbdb-dcb0-4a3b-873f-5d43d0d997f6",
   "metadata": {},
   "source": [
    "<h3>Displaying Top Words for Each Cluster</h3>\n",
    "We analyze the characteristics of each cluster by displaying the top words associated with each cluster. Additionally, we provide a visual representation of the distribution of data points across clusters, showcasing the keywords for each cluster."
   ]
  },
  {
   "cell_type": "code",
   "execution_count": 22,
   "id": "e92e1736-8b1c-4568-b340-b12badd2a924",
   "metadata": {
    "tags": []
   },
   "outputs": [
    {
     "name": "stdout",
     "output_type": "stream",
     "text": [
      "Cluster 1 - Top Words: data, model, learn, machin, analyst\n",
      "Cluster 2 - Top Words: develop, design, web, softwar, end\n",
      "Cluster 3 - Top Words: network, system, administr, secur, engin\n"
     ]
    }
   ],
   "source": [
    "# Display the top words associated with each cluster\n",
    "terms = tfidf_vectorizer.get_feature_names_out()\n",
    "order_centroids = kmeans_optimal.cluster_centers_.argsort()[:, ::-1]\n",
    "\n",
    "for i in range(optimal_k):\n",
    "    top_words = [terms[ind] for ind in order_centroids[i, :5]]  # Display top 5 words per cluster\n",
    "    print(f\"Cluster {i + 1} - Top Words: {', '.join(top_words)}\")\n"
   ]
  },
  {
   "cell_type": "code",
   "execution_count": 23,
   "id": "bbc96414-d475-471c-bb95-9fa3a71a76c6",
   "metadata": {
    "tags": []
   },
   "outputs": [
    {
     "name": "stderr",
     "output_type": "stream",
     "text": [
      "C:\\Users\\HP\\anaconda3\\Lib\\site-packages\\sklearn\\cluster\\_kmeans.py:1412: FutureWarning: The default value of `n_init` will change from 10 to 'auto' in 1.4. Set the value of `n_init` explicitly to suppress the warning\n",
      "  super()._check_params_vs_input(X, default_n_init=10)\n"
     ]
    }
   ],
   "source": [
    "from sklearn.cluster import KMeans\n",
    "\n",
    "# Step 1: Choose the number of clusters based on your job categories\n",
    "num_clusters = 9\n",
    "\n",
    "# Step 2: Apply K-means clustering\n",
    "kmeans_optimal = KMeans(n_clusters=num_clusters, random_state=42)\n",
    "df['Cluster'] = kmeans_optimal.fit_predict(tfidf_matrix)\n",
    "\n"
   ]
  },
  {
   "cell_type": "code",
   "execution_count": 24,
   "id": "aaf94fb1-c321-49af-97d2-e55cec632f03",
   "metadata": {
    "tags": []
   },
   "outputs": [
    {
     "name": "stdout",
     "output_type": "stream",
     "text": [
      "Cluster 1 - Top Feature Names: tri\n",
      "Cluster 2 - Top Feature Names: data\n",
      "Cluster 3 - Top Feature Names: system\n",
      "Cluster 4 - Top Feature Names: android\n",
      "Cluster 5 - Top Feature Names: network\n",
      "Cluster 6 - Top Feature Names: model\n",
      "Cluster 7 - Top Feature Names: design\n",
      "Cluster 8 - Top Feature Names: engin\n",
      "Cluster 9 - Top Feature Names: develop\n"
     ]
    }
   ],
   "source": [
    "# Examine Cluster Characteristics with Non-Repeating Top Words\n",
    "feature_names = tfidf_vectorizer.get_feature_names_out()\n",
    "order_centroids = kmeans_optimal.cluster_centers_.argsort()[:, ::-1]\n",
    "\n",
    "selected_words = set()\n",
    "\n",
    "for i in range(num_clusters):\n",
    "    cluster_feature_names = []\n",
    "    j = 0\n",
    "    while len(cluster_feature_names) < 10 and j < len(feature_names):\n",
    "        word = feature_names[order_centroids[i, j]]\n",
    "        if word not in selected_words:\n",
    "            cluster_feature_names.append(word)\n",
    "            selected_words.add(word)\n",
    "            break  # Exit the loop after adding one unique word to the cluster\n",
    "        j += 1\n",
    "\n",
    "    print(f\"Cluster {i + 1} - Top Feature Names: {', '.join(cluster_feature_names)}\")\n"
   ]
  },
  {
   "cell_type": "code",
   "execution_count": 25,
   "id": "3ed41821-8593-4911-a123-5b45929fb141",
   "metadata": {
    "tags": []
   },
   "outputs": [
    {
     "data": {
      "image/png": "[encoded data removed]",
      "text/plain": [
       "<Figure size 1200x600 with 1 Axes>"
      ]
     },
     "metadata": {},
     "output_type": "display_data"
    }
   ],
   "source": [
    "import matplotlib.pyplot as plt\n",
    "import seaborn as sns\n",
    "\n",
    "# Examine Cluster Characteristics with Non-Repeating Top Words\n",
    "feature_names = tfidf_vectorizer.get_feature_names_out()\n",
    "order_centroids = kmeans_optimal.cluster_centers_.argsort()[:, ::-1]\n",
    "\n",
    "selected_words = set()\n",
    "\n",
    "# Display the top feature names for each cluster\n",
    "cluster_keywords = []\n",
    "for i in range(num_clusters):\n",
    "    cluster_feature_names = []\n",
    "    j = 0\n",
    "    while len(cluster_feature_names) < 10 and j < len(feature_names):\n",
    "        word = feature_names[order_centroids[i, j]]\n",
    "        if word not in selected_words:\n",
    "            cluster_feature_names.append(word)\n",
    "            selected_words.add(word)\n",
    "            break  # Exit the loop after adding one unique word to the cluster\n",
    "        j += 1\n",
    "    cluster_keywords.append(', '.join(cluster_feature_names))\n",
    "\n",
    "# Count the number of data points in each cluster\n",
    "cluster_counts = df['Cluster'].value_counts().sort_index()\n",
    "\n",
    "# Create a bar plot with keywords for each cluster\n",
    "plt.figure(figsize=(12, 6))\n",
    "sns.barplot(x=cluster_keywords, y=cluster_counts.values, palette='viridis')\n",
    "plt.title('Distribution of Data Points Across Clusters with Top Keywords')\n",
    "plt.xlabel('Top Keywords for Each Cluster')\n",
    "plt.ylabel('Number of Data Points')\n",
    "plt.xticks(rotation=45, ha='right')  # Rotate x-axis labels for better visibility\n",
    "plt.tight_layout()\n",
    "plt.show()\n"
   ]
  },
  {
   "cell_type": "markdown",
   "id": "7f565c11-b0c7-48af-99a7-8f5571132bad",
   "metadata": {},
   "source": [
    "<h1>Labeling Clusters Based on Characteristics</h1>\n",
    "Clusters are labeled based on their characteristics, and a mapping is created. The final DataFrame is saved to a CSV file, and the cluster labels, TF-IDF vectorizer, and K-means model are saved using the joblib library for future use."
   ]
  },
  {
   "cell_type": "code",
   "execution_count": 26,
   "id": "e2600478-328a-4fb2-b2df-7ae06317313e",
   "metadata": {
    "tags": []
   },
   "outputs": [],
   "source": [
    "cluster_labels = {\n",
    "    0:\"Software developer\",\n",
    "    1:\"Data Science\",\n",
    "    2:\"System Administrator\",\n",
    "    3:\"full stack\",\n",
    "    4:\"Network Engineer\",\n",
    "    5:\"UX/UI Designer\",\n",
    "    6:\"Web Developer\",\n",
    "    7:\"Data Analyst\",\n",
    "    8:\"Android Developer\",\n",
    "}\n"
   ]
  },
  {
   "cell_type": "code",
   "execution_count": 27,
   "id": "96b457f5-11c7-45c2-8741-e60ad19a76a5",
   "metadata": {
    "tags": []
   },
   "outputs": [],
   "source": [
    "df['ClusterLabel'] = df['Cluster'].map(cluster_labels)\n",
    "df.to_csv('clustered.csv', index=False)\n"
   ]
  },
  {
   "cell_type": "code",
   "execution_count": 28,
   "id": "e4730331-c933-4a43-8cea-81346e0d390d",
   "metadata": {
    "tags": []
   },
   "outputs": [
    {
     "data": {
      "text/html": [
       "<div>\n",
       "<style scoped>\n",
       "    .dataframe tbody tr th:only-of-type {\n",
       "        vertical-align: middle;\n",
       "    }\n",
       "\n",
       "    .dataframe tbody tr th {\n",
       "        vertical-align: top;\n",
       "    }\n",
       "\n",
       "    .dataframe thead th {\n",
       "        text-align: right;\n",
       "    }\n",
       "</style>\n",
       "<table border=\"1\" class=\"dataframe\">\n",
       "  <thead>\n",
       "    <tr style=\"text-align: right;\">\n",
       "      <th></th>\n",
       "      <th>FileName</th>\n",
       "      <th>Text</th>\n",
       "      <th>ProcessedText</th>\n",
       "      <th>WordsList</th>\n",
       "      <th>WordCount</th>\n",
       "      <th>Cluster</th>\n",
       "      <th>ClusterLabel</th>\n",
       "    </tr>\n",
       "  </thead>\n",
       "  <tbody>\n",
       "    <tr>\n",
       "      <th>0</th>\n",
       "      <td>1. System Administrator - Resume - Copie.pdf</td>\n",
       "      <td>FIRST LAST\\nBay Area, California • +1-234-456-...</td>\n",
       "      <td>first last bay area , california • • • linkedi...</td>\n",
       "      <td>first,last,bay,area,,,california,•,•,•,linkedi...</td>\n",
       "      <td>359</td>\n",
       "      <td>2</td>\n",
       "      <td>System Administrator</td>\n",
       "    </tr>\n",
       "    <tr>\n",
       "      <th>1</th>\n",
       "      <td>1. System Administrator - Resume.pdf</td>\n",
       "      <td>FIRST LAST\\nBay Area, California • +1-234-456-...</td>\n",
       "      <td>first last bay area , california • • • linkedi...</td>\n",
       "      <td>first,last,bay,area,,,california,•,•,•,linkedi...</td>\n",
       "      <td>359</td>\n",
       "      <td>2</td>\n",
       "      <td>System Administrator</td>\n",
       "    </tr>\n",
       "    <tr>\n",
       "      <th>2</th>\n",
       "      <td>1.pdf</td>\n",
       "      <td>Align-Justify Experience \\n05/22 - 01/23 Data ...</td>\n",
       "      <td>align-justifi experi - data scientist tanalink...</td>\n",
       "      <td>align-justifi,experi,-,data,scientist,tanalink...</td>\n",
       "      <td>304</td>\n",
       "      <td>1</td>\n",
       "      <td>Data Science</td>\n",
       "    </tr>\n",
       "    <tr>\n",
       "      <th>3</th>\n",
       "      <td>10.pdf</td>\n",
       "      <td>TIMTIM RAHMAN \\n\\nM a n a g e m e n t G r a u ...</td>\n",
       "      <td>timtim rahman n g e e n g r u e | b ( c ) cont...</td>\n",
       "      <td>timtim,rahman,n,g,e,e,n,g,r,u,e,|,b,(,c,),cont...</td>\n",
       "      <td>517</td>\n",
       "      <td>1</td>\n",
       "      <td>Data Science</td>\n",
       "    </tr>\n",
       "    <tr>\n",
       "      <th>4</th>\n",
       "      <td>11.pdf</td>\n",
       "      <td>08/2022 - Present,   \\nAchievements-  \\n\\nBeng...</td>\n",
       "      <td>- present , achievements- bengaluru achiev in-...</td>\n",
       "      <td>-,present,,,achievements-,bengaluru,achiev,in-...</td>\n",
       "      <td>498</td>\n",
       "      <td>5</td>\n",
       "      <td>UX/UI Designer</td>\n",
       "    </tr>\n",
       "    <tr>\n",
       "      <th>...</th>\n",
       "      <td>...</td>\n",
       "      <td>...</td>\n",
       "      <td>...</td>\n",
       "      <td>...</td>\n",
       "      <td>...</td>\n",
       "      <td>...</td>\n",
       "      <td>...</td>\n",
       "    </tr>\n",
       "    <tr>\n",
       "      <th>128</th>\n",
       "      <td>web-developer-resume-example.pdf</td>\n",
       "      <td>JACKSON\\nMACARTHUR\\nWeb Developer\\n\\njmacattac...</td>\n",
       "      <td>jackson macarthur web develop ( ) atlanta , ga...</td>\n",
       "      <td>jackson,macarthur,web,develop,(,),atlanta,,,ga...</td>\n",
       "      <td>294</td>\n",
       "      <td>6</td>\n",
       "      <td>Web Developer</td>\n",
       "    </tr>\n",
       "    <tr>\n",
       "      <th>129</th>\n",
       "      <td>Web_Developer_Resume_1.pdf</td>\n",
       "      <td>Karen Higgins \\nWeb Developer \\n\\nAREAS OF EXP...</td>\n",
       "      <td>karen higgin web develop area expertis person ...</td>\n",
       "      <td>karen,higgin,web,develop,area,expertis,person,...</td>\n",
       "      <td>788</td>\n",
       "      <td>6</td>\n",
       "      <td>Web Developer</td>\n",
       "    </tr>\n",
       "    <tr>\n",
       "      <th>130</th>\n",
       "      <td>Whitmore-resume.pdf</td>\n",
       "      <td>Jonathan Whitmore\\nPhD, Data Scientist\\n\\nExpe...</td>\n",
       "      <td>jonathan whitmor phd , data scientist experi m...</td>\n",
       "      <td>jonathan,whitmor,phd,,,data,scientist,experi,m...</td>\n",
       "      <td>424</td>\n",
       "      <td>1</td>\n",
       "      <td>Data Science</td>\n",
       "    </tr>\n",
       "    <tr>\n",
       "      <th>131</th>\n",
       "      <td>wordpress.pdf</td>\n",
       "      <td>DESIREE BAKER\\n\\nWordPress Front-End\\nDevelope...</td>\n",
       "      <td>desire baker wordpress front-end develop ( ) f...</td>\n",
       "      <td>desire,baker,wordpress,front-end,develop,(,),f...</td>\n",
       "      <td>210</td>\n",
       "      <td>6</td>\n",
       "      <td>Web Developer</td>\n",
       "    </tr>\n",
       "    <tr>\n",
       "      <th>132</th>\n",
       "      <td>Xinni_Chng.pdf</td>\n",
       "      <td>E X P E R I E N C E\\n\\nGoogle — User experienc...</td>\n",
       "      <td>e x p e r e n c e googl — user experi design i...</td>\n",
       "      <td>e,x,p,e,r,e,n,c,e,googl,—,user,experi,design,i...</td>\n",
       "      <td>338</td>\n",
       "      <td>6</td>\n",
       "      <td>Web Developer</td>\n",
       "    </tr>\n",
       "  </tbody>\n",
       "</table>\n",
       "<p>133 rows × 7 columns</p>\n",
       "</div>"
      ],
      "text/plain": [
       "                                         FileName  \\\n",
       "0    1. System Administrator - Resume - Copie.pdf   \n",
       "1            1. System Administrator - Resume.pdf   \n",
       "2                                           1.pdf   \n",
       "3                                          10.pdf   \n",
       "4                                          11.pdf   \n",
       "..                                            ...   \n",
       "128              web-developer-resume-example.pdf   \n",
       "129                    Web_Developer_Resume_1.pdf   \n",
       "130                           Whitmore-resume.pdf   \n",
       "131                                 wordpress.pdf   \n",
       "132                                Xinni_Chng.pdf   \n",
       "\n",
       "                                                  Text  \\\n",
       "0    FIRST LAST\\nBay Area, California • +1-234-456-...   \n",
       "1    FIRST LAST\\nBay Area, California • +1-234-456-...   \n",
       "2    Align-Justify Experience \\n05/22 - 01/23 Data ...   \n",
       "3    TIMTIM RAHMAN \\n\\nM a n a g e m e n t G r a u ...   \n",
       "4    08/2022 - Present,   \\nAchievements-  \\n\\nBeng...   \n",
       "..                                                 ...   \n",
       "128  JACKSON\\nMACARTHUR\\nWeb Developer\\n\\njmacattac...   \n",
       "129  Karen Higgins \\nWeb Developer \\n\\nAREAS OF EXP...   \n",
       "130  Jonathan Whitmore\\nPhD, Data Scientist\\n\\nExpe...   \n",
       "131  DESIREE BAKER\\n\\nWordPress Front-End\\nDevelope...   \n",
       "132  E X P E R I E N C E\\n\\nGoogle — User experienc...   \n",
       "\n",
       "                                         ProcessedText  \\\n",
       "0    first last bay area , california • • • linkedi...   \n",
       "1    first last bay area , california • • • linkedi...   \n",
       "2    align-justifi experi - data scientist tanalink...   \n",
       "3    timtim rahman n g e e n g r u e | b ( c ) cont...   \n",
       "4    - present , achievements- bengaluru achiev in-...   \n",
       "..                                                 ...   \n",
       "128  jackson macarthur web develop ( ) atlanta , ga...   \n",
       "129  karen higgin web develop area expertis person ...   \n",
       "130  jonathan whitmor phd , data scientist experi m...   \n",
       "131  desire baker wordpress front-end develop ( ) f...   \n",
       "132  e x p e r e n c e googl — user experi design i...   \n",
       "\n",
       "                                             WordsList  WordCount  Cluster  \\\n",
       "0    first,last,bay,area,,,california,•,•,•,linkedi...        359        2   \n",
       "1    first,last,bay,area,,,california,•,•,•,linkedi...        359        2   \n",
       "2    align-justifi,experi,-,data,scientist,tanalink...        304        1   \n",
       "3    timtim,rahman,n,g,e,e,n,g,r,u,e,|,b,(,c,),cont...        517        1   \n",
       "4    -,present,,,achievements-,bengaluru,achiev,in-...        498        5   \n",
       "..                                                 ...        ...      ...   \n",
       "128  jackson,macarthur,web,develop,(,),atlanta,,,ga...        294        6   \n",
       "129  karen,higgin,web,develop,area,expertis,person,...        788        6   \n",
       "130  jonathan,whitmor,phd,,,data,scientist,experi,m...        424        1   \n",
       "131  desire,baker,wordpress,front-end,develop,(,),f...        210        6   \n",
       "132  e,x,p,e,r,e,n,c,e,googl,—,user,experi,design,i...        338        6   \n",
       "\n",
       "             ClusterLabel  \n",
       "0    System Administrator  \n",
       "1    System Administrator  \n",
       "2            Data Science  \n",
       "3            Data Science  \n",
       "4          UX/UI Designer  \n",
       "..                    ...  \n",
       "128         Web Developer  \n",
       "129         Web Developer  \n",
       "130          Data Science  \n",
       "131         Web Developer  \n",
       "132         Web Developer  \n",
       "\n",
       "[133 rows x 7 columns]"
      ]
     },
     "execution_count": 28,
     "metadata": {},
     "output_type": "execute_result"
    }
   ],
   "source": [
    "df"
   ]
  },
  {
   "cell_type": "markdown",
   "id": "a7b62c50-ce80-4f84-8d0f-60a4b713da28",
   "metadata": {},
   "source": [
    "<h1>Saving TF-IDF Vectorizer, K-Means Model, and Cluster Labels</h1>"
   ]
  },
  {
   "cell_type": "code",
   "execution_count": 29,
   "id": "6f20186e-bd4c-404e-a4b4-e17366dfbe62",
   "metadata": {
    "tags": []
   },
   "outputs": [
    {
     "data": {
      "text/plain": [
       "['cluster_labels.joblib']"
      ]
     },
     "execution_count": 29,
     "metadata": {},
     "output_type": "execute_result"
    }
   ],
   "source": [
    "import joblib\n",
    "\n",
    "# Save the TF-IDF vectorizer, K-means model, and cluster labels\n",
    "joblib.dump(tfidf_vectorizer, 'tfidf_vectorizer.joblib')\n",
    "joblib.dump(kmeans_optimal, 'kmeans_model.joblib')\n",
    "joblib.dump(cluster_labels, 'cluster_labels.joblib')\n"
   ]
  },
  {
   "cell_type": "code",
   "execution_count": null,
   "id": "a8e863ee-2fe5-4861-9b0b-3b3e6b9f3f49",
   "metadata": {},
   "outputs": [],
   "source": []
  }
 ],
 "metadata": {
  "kernelspec": {
   "display_name": "Python 3 (ipykernel)",
   "language": "python",
   "name": "python3"
  },
  "language_info": {
   "codemirror_mode": {
    "name": "ipython",
    "version": 3
   },
   "file_extension": ".py",
   "mimetype": "text/x-python",
   "name": "python",
   "nbconvert_exporter": "python",
   "pygments_lexer": "ipython3",
   "version": "3.11.5"
  }
 },
 "nbformat": 4,
 "nbformat_minor": 5
}
